{
 "cells": [
  {
   "cell_type": "markdown",
   "id": "38e188a5",
   "metadata": {},
   "source": [
    "# Exercise 00\n",
    "Write a piece of code that allocates a list of 20 integers and initializes each element by its index multiplied by 5. Print the result."
   ]
  },
  {
   "cell_type": "code",
   "execution_count": 1,
   "id": "01aa4f35",
   "metadata": {},
   "outputs": [
    {
     "name": "stdout",
     "output_type": "stream",
     "text": [
      "55\n",
      "60\n",
      "65\n",
      "70\n",
      "75\n",
      "80\n",
      "85\n",
      "90\n",
      "95\n",
      "100\n"
     ]
    }
   ],
   "source": [
    "def multipliedNumber(upTop):\n",
    "    n1 = upTop-10\n",
    "    n2 = upTop+10\n",
    "    while n1 < upTop:\n",
    "        print(n2 * 5)\n",
    "        n1 += 1\n",
    "        n2 +=1\n",
    "\n",
    "multipliedNumber(1)\n",
    "    "
   ]
  },
  {
   "cell_type": "markdown",
   "id": "529d91ae",
   "metadata": {},
   "source": [
    "# Exercise 01\n",
    "Define a function that takes an integer as input, prints  all integers that it is divisable by, and returns the largest one."
   ]
  },
  {
   "cell_type": "code",
   "execution_count": null,
   "id": "30e79132",
   "metadata": {},
   "outputs": [],
   "source": [
    "def divs_and_max(num):\n",
    "    max_div = 0\n",
    "    for i in range(1, num+1):\n",
    "        if num % i == 0:\n",
    "            print(i)\n",
    "            max_div = i\n",
    "    return max_div\n",
    "\n",
    "number = int(input())\n",
    "largest_divisible = divs_and_max(number)\n",
    "print(\"Max divisible integer is:\", largest_divisible)\n"
   ]
  },
  {
   "cell_type": "markdown",
   "id": "cfbe30d4",
   "metadata": {},
   "source": [
    "# Exercise 02\n",
    "- create a dictionary with 6 keys and values of your choice\n",
    "- write a function that takes a dictionary and a value as input and returns whether the value occurs as a key in the dictionary\n",
    "- write a function that takes a dictionary as input, and returns the dictionary but the keys are swapped with their values (resolve the issue if a value occurs twice!)"
   ]
  },
  {
   "cell_type": "code",
   "execution_count": null,
   "id": "2123f1c6",
   "metadata": {},
   "outputs": [],
   "source": []
  },
  {
   "cell_type": "markdown",
   "id": "b4b4e426",
   "metadata": {},
   "source": [
    "# Exercise 03\n",
    "Define a function that creates a dictionary of the first n fibonacci numbers as values paired with their indices as keys. "
   ]
  },
  {
   "cell_type": "code",
   "execution_count": null,
   "id": "7845b5a4",
   "metadata": {},
   "outputs": [],
   "source": []
  }
 ],
 "metadata": {
  "kernelspec": {
   "display_name": "Python 3 (ipykernel)",
   "language": "python",
   "name": "python3"
  },
  "language_info": {
   "codemirror_mode": {
    "name": "ipython",
    "version": 3
   },
   "file_extension": ".py",
   "mimetype": "text/x-python",
   "name": "python",
   "nbconvert_exporter": "python",
   "pygments_lexer": "ipython3",
   "version": "3.8.18"
  }
 },
 "nbformat": 4,
 "nbformat_minor": 5
}

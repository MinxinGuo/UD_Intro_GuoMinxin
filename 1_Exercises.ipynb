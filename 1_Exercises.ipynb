{
 "cells": [
  {
   "cell_type": "markdown",
   "id": "38e188a5",
   "metadata": {},
   "source": [
    "# Exercise 00\n",
    "Write a piece of code that allocates a list of 20 integers and initializes each element by its index multiplied by 5. Print the result."
   ]
  },
  {
   "cell_type": "code",
   "execution_count": 1,
   "id": "01aa4f35",
   "metadata": {},
   "outputs": [
    {
     "name": "stdout",
     "output_type": "stream",
     "text": [
      "55\n",
      "60\n",
      "65\n",
      "70\n",
      "75\n",
      "80\n",
      "85\n",
      "90\n",
      "95\n",
      "100\n"
     ]
    }
   ],
   "source": [
    "def multipliedNumber(upTop):\n",
    "    n1 = upTop-10\n",
    "    n2 = upTop+10\n",
    "    while n1 < upTop:\n",
    "        print(n2 * 5)\n",
    "        n1 += 1\n",
    "        n2 +=1\n",
    "\n",
    "multipliedNumber(1)\n",
    "    "
   ]
  },
  {
   "cell_type": "markdown",
   "id": "529d91ae",
   "metadata": {},
   "source": [
    "# Exercise 01\n",
    "Define a function that takes an integer as input, prints  all integers that it is divisable by, and returns the largest one."
   ]
  },
  {
   "cell_type": "code",
   "execution_count": 2,
   "id": "30e79132",
   "metadata": {},
   "outputs": [
    {
     "name": "stdout",
     "output_type": "stream",
     "text": [
      "13\n",
      "1\n",
      "Max divisible integer is: 1\n"
     ]
    }
   ],
   "source": [
    "def divs_and_max(num):\n",
    "    max_div = 0\n",
    "    for i in range(1, num):\n",
    "        if num % i == 0:\n",
    "            print(i)\n",
    "            max_div = i\n",
    "    return max_div\n",
    "\n",
    "number = int(input())\n",
    "largest_divisible = divs_and_max(number)\n",
    "print(\"Max divisible integer is:\", largest_divisible)\n"
   ]
  },
  {
   "cell_type": "code",
   "execution_count": 4,
   "id": "10ddd563",
   "metadata": {},
   "outputs": [
    {
     "name": "stdout",
     "output_type": "stream",
     "text": [
      "13\n",
      "1\n",
      "Max divisible integer is: 1\n"
     ]
    }
   ],
   "source": [
    "def divs_and_max(num):\n",
    "    max_div = 0\n",
    "    for i in range(1, int(num/2)+1):\n",
    "        if num % i == 0:\n",
    "            print(i)\n",
    "            max_div = i\n",
    "    return max_div\n",
    "\n",
    "number = int(input())\n",
    "largest_divisible = divs_and_max(number)\n",
    "print(\"Max divisible integer is:\", largest_divisible)\n"
   ]
  },
  {
   "cell_type": "markdown",
   "id": "cfbe30d4",
   "metadata": {},
   "source": [
    "# Exercise 02\n",
    "- create a dictionary with 6 keys and values of your choice\n",
    "- write a function that takes a dictionary and a value as input and returns whether the value occurs as a key in the dictionary\n",
    "- write a function that takes a dictionary as input, and returns the dictionary but the keys are swapped with their values (resolve the issue if a value occurs twice!)"
   ]
  },
  {
   "cell_type": "code",
   "execution_count": 11,
   "id": "2123f1c6",
   "metadata": {},
   "outputs": [
    {
     "name": "stdout",
     "output_type": "stream",
     "text": [
      "{'time': '9pm', 'weather': 'cloudy', 'name': 'GMX', 'major': 'Urban Design', 'learn': 'Python', 'level': 'beginner'}\n"
     ]
    }
   ],
   "source": [
    "Dic = {\n",
    "    \"time\":\"9pm\",\n",
    "    \"weather\":\"cloudy\",\n",
    "    \"name\":\"GMX\",\n",
    "    \"major\":\"Urban Design\",\n",
    "    \"learn\":\"Python\",\n",
    "    \"level\":\"beginner\"}\n",
    "\n",
    "print(Dic)"
   ]
  },
  {
   "cell_type": "code",
   "execution_count": 12,
   "id": "22025421",
   "metadata": {},
   "outputs": [
    {
     "name": "stdout",
     "output_type": "stream",
     "text": [
      "True\n"
     ]
    }
   ],
   "source": [
    "\n",
    "\n",
    "def functionA(Dic,k):\n",
    "    for i in Dic.keys():\n",
    "        if i == k:\n",
    "            return True\n",
    "    return False\n",
    "print(functionA(Dic,\"time\"))"
   ]
  },
  {
   "cell_type": "code",
   "execution_count": 6,
   "id": "5bca41eb",
   "metadata": {},
   "outputs": [
    {
     "name": "stdout",
     "output_type": "stream",
     "text": [
      "sorry\n"
     ]
    }
   ],
   "source": [
    "#high level method\n",
    "Dic = {\n",
    "    \"time\":\"9pm\",\n",
    "    \"weather\":\"cloudy\",\n",
    "    \"name\":\"GMX\",\n",
    "    \"major\":\"Urban Design\",\n",
    "    \"learn\":\"Python\",\n",
    "    \"level\":\"beginner\"}\n",
    "\n",
    "\n",
    "def order(Dic,ipt_d):\n",
    "    if ipt_d == \"Dic\":\n",
    "        ipt_v = input(\"write down the value you wanna search\")\n",
    "        \n",
    "        if ipt_v in Dic.values():\n",
    "            count = 0\n",
    "            for x in Dic.values():\n",
    "                if ipt_v == x:\n",
    "                    return \"Here is your key, \"+list(Dic.keys())[count]\n",
    "                else:\n",
    "                    count +=1\n",
    "        else:\n",
    "            return\"sorry\"\n",
    "    else:return\"sorry\"\n",
    "    \n",
    "print(order(Dic,\"time\"))"
   ]
  },
  {
   "cell_type": "code",
   "execution_count": 10,
   "id": "ca82ff34",
   "metadata": {},
   "outputs": [
    {
     "name": "stdout",
     "output_type": "stream",
     "text": [
      "{'9pm': 'time', 'cloudy': 'weather', 'GMX': 'name', 'Urban Design': 'major', 'Python': 'learn', 'beginner': 'level'}\n"
     ]
    }
   ],
   "source": [
    "#Q3\n",
    "\n",
    "#method 1\n",
    "Dict = {\n",
    "    \"time\":\"9pm\",\n",
    "    \"weather\":\"cloudy\",\n",
    "    \"name\":\"GMX\",\n",
    "    \"major\":\"Urban Design\",\n",
    "    \"learn\":\"Python\",\n",
    "    \"level\":\"beginner\"}\n",
    "Dictnew ={}\n",
    "for x,y in Dict.items():\n",
    "    Dictnew[y]=x\n",
    "print(Dictnew)\n",
    "\n",
    "#method 2\n",
    "def swapDict(d):\n",
    "    Dictnew={}\n",
    "    for k in d.keys():\n",
    "        Dictnew[d[k]]=k\n",
    "    return Dictnew"
   ]
  },
  {
   "cell_type": "markdown",
   "id": "b4b4e426",
   "metadata": {},
   "source": [
    "# Exercise 03\n",
    "Define a function that creates a dictionary of the first n fibonacci numbers as values paired with their indices as keys. "
   ]
  },
  {
   "cell_type": "code",
   "execution_count": 22,
   "id": "7845b5a4",
   "metadata": {},
   "outputs": [
    {
     "data": {
      "text/plain": [
       "{0: 0, 1: 1, 2: 1, 3: 2, 4: 3, 5: 5, 6: 8, 7: 13, 8: 21, 9: 34}"
      ]
     },
     "execution_count": 22,
     "metadata": {},
     "output_type": "execute_result"
    }
   ],
   "source": [
    "def mydict(n):\n",
    "    fibonacci = {}\n",
    "    v1 = 0\n",
    "    v2 = 1\n",
    "    for i in range(n):\n",
    "        fibonacci[i]=v1\n",
    "        t = v1 + v2\n",
    "        v1 = v2\n",
    "        v2 = t\n",
    "    return fibonacci\n",
    "    \n",
    "mydict(10)"
   ]
  },
  {
   "cell_type": "code",
   "execution_count": null,
   "id": "f3c74a3f",
   "metadata": {},
   "outputs": [],
   "source": []
  },
  {
   "cell_type": "code",
   "execution_count": null,
   "id": "1d79ec15",
   "metadata": {},
   "outputs": [],
   "source": []
  }
 ],
 "metadata": {
  "kernelspec": {
   "display_name": "Python 3 (ipykernel)",
   "language": "python",
   "name": "python3"
  },
  "language_info": {
   "codemirror_mode": {
    "name": "ipython",
    "version": 3
   },
   "file_extension": ".py",
   "mimetype": "text/x-python",
   "name": "python",
   "nbconvert_exporter": "python",
   "pygments_lexer": "ipython3",
   "version": "3.8.18"
  }
 },
 "nbformat": 4,
 "nbformat_minor": 5
}

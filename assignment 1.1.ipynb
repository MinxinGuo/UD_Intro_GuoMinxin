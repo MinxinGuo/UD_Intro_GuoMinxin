{
 "cells": [
  {
   "cell_type": "code",
   "execution_count": 5,
   "id": "42a0a830",
   "metadata": {},
   "outputs": [
    {
     "name": "stdout",
     "output_type": "stream",
     "text": [
      "36\n",
      "1\n",
      "2\n",
      "3\n",
      "4\n",
      "6\n",
      "9\n",
      "12\n",
      "18\n",
      "36\n",
      "Max divisible integer is: 36\n"
     ]
    }
   ],
   "source": [
    "def divs_and_max(num):\n",
    "    max_div = 0\n",
    "    for i in range(1, num+1):\n",
    "        if num % i == 0:\n",
    "            print(i)\n",
    "            max_div = i\n",
    "    return max_div\n",
    "\n",
    "number = int(input())\n",
    "largest_divisible = divs_and_max(number)\n",
    "print(\"Max divisible integer is:\", largest_divisible)\n"
   ]
  },
  {
   "cell_type": "code",
   "execution_count": null,
   "id": "959e3e52",
   "metadata": {},
   "outputs": [],
   "source": []
  }
 ],
 "metadata": {
  "kernelspec": {
   "display_name": "Python 3 (ipykernel)",
   "language": "python",
   "name": "python3"
  },
  "language_info": {
   "codemirror_mode": {
    "name": "ipython",
    "version": 3
   },
   "file_extension": ".py",
   "mimetype": "text/x-python",
   "name": "python",
   "nbconvert_exporter": "python",
   "pygments_lexer": "ipython3",
   "version": "3.8.18"
  }
 },
 "nbformat": 4,
 "nbformat_minor": 5
}
